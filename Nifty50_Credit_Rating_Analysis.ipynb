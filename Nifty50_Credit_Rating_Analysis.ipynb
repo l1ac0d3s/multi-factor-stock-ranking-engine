{
  "nbformat": 4,
  "nbformat_minor": 0,
  "metadata": {
    "colab": {
      "provenance": []
    },
    "kernelspec": {
      "name": "python3",
      "display_name": "Python 3"
    },
    "language_info": {
      "name": "python"
    }
  },
  "cells": [
    {
      "cell_type": "code",
      "execution_count": null,
      "metadata": {
        "id": "TCthSK5vMay5"
      },
      "outputs": [],
      "source": []
    },
    {
      "cell_type": "code",
      "source": [
        "import pandas as pd\n",
        "import matplotlib.pyplot as plt\n",
        "\n",
        "# Step 1: Load the stock factor data\n",
        "df = pd.read_csv(\"nifty50_factors.csv.csv\")\n",
        "\n",
        "# Step 2: Sort by score in descending order (higher score = better performance)\n",
        "df_sorted = df.sort_values(by=\"score\", ascending=False).reset_index(drop=True)\n",
        "\n",
        "# Step 3: Calculate percentile ranks\n",
        "df_sorted[\"percentile_rank\"] = df_sorted.index / len(df_sorted)\n",
        "\n",
        "# Step 4: Assign credit ratings based on percentiles\n",
        "def assign_credit_rating(p):\n",
        "    if p <= 0.05:\n",
        "        return \"AAA\"\n",
        "    elif p <= 0.15:\n",
        "        return \"AA\"\n",
        "    elif p <= 0.30:\n",
        "        return \"A\"\n",
        "    elif p <= 0.50:\n",
        "        return \"BBB\"\n",
        "    else:\n",
        "        return \"BB\"\n",
        "\n",
        "df_sorted[\"Credit Rating\"] = df_sorted[\"percentile_rank\"].apply(assign_credit_rating)\n",
        "\n",
        "# Step 5: Final cleaned DataFrame\n",
        "df_sorted_final = df_sorted.drop(columns=[\"percentile_rank\"])\n",
        "\n",
        "# Step 6: Display top 10 rated stocks\n",
        "print(\"Top 10 Ranked Stocks with Credit Ratings:\")\n",
        "display(df_sorted_final.head(10))\n",
        "\n",
        "# Step 7: Credit Rating - Bar Chart\n",
        "rating_counts = df_sorted_final[\"Credit Rating\"].value_counts().sort_index()\n",
        "\n",
        "plt.figure(figsize=(8, 4))\n",
        "rating_counts.plot(kind=\"bar\", color=\"#4682B4\", edgecolor=\"black\")\n",
        "plt.title(\"Number of Stocks by Credit Rating\")\n",
        "plt.xlabel(\"Credit Rating\")\n",
        "plt.ylabel(\"Number of Stocks\")\n",
        "plt.grid(axis=\"y\", linestyle=\"--\", alpha=0.7)\n",
        "plt.tight_layout()\n",
        "plt.show()\n",
        "\n",
        "# Step 8: Credit Rating - Pie Chart\n",
        "plt.figure(figsize=(6, 6))\n",
        "rating_counts.plot(kind=\"pie\", autopct='%1.1f%%', startangle=140,\n",
        "                   colors=[\"#4CAF50\", \"#8BC34A\", \"#FFC107\", \"#FF9800\", \"#F44336\"])\n",
        "plt.ylabel(\"\")\n",
        "plt.title(\"Proportion of Stocks by Credit Rating\")\n",
        "plt.tight_layout()\n",
        "plt.show()\n"
      ],
      "metadata": {
        "id": "c1rGbt6hMf0K"
      },
      "execution_count": null,
      "outputs": []
    }
  ]
}